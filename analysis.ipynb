{
 "cells": [
  {
   "cell_type": "markdown",
   "metadata": {},
   "source": [
    "# Exploring the Quantum Nature of Light with Compton Scattering\n",
    "\n",
    "Sam Greydanus. 11 May 2017. Experimental Methods in Physics."
   ]
  },
  {
   "cell_type": "code",
   "execution_count": 1,
   "metadata": {
    "collapsed": true
   },
   "outputs": [],
   "source": [
    "import read_chn\n",
    "import matplotlib.pyplot as plt\n",
    "import numpy as np\n",
    "%matplotlib inline"
   ]
  },
  {
   "cell_type": "code",
   "execution_count": 4,
   "metadata": {
    "collapsed": true
   },
   "outputs": [],
   "source": [
    "data_dir = './data'\n",
    "\n",
    "elements = ['cs', 'na', 'co']\n",
    "angles = [str(i).zfill(2) for i in range(0,70,10)]\n",
    "calib_files = {e : '/calib-f/{}.Chn'.format(e) for e in elements}\n",
    "scatter_files = {a : '/data-f/cs_{}_scatter.Chn'.format(a) for a in angles}\n",
    "control_files = {a : '/data-f/cs_{}_scatter.Chn'.format(a) for a in angles}"
   ]
  },
  {
   "cell_type": "code",
   "execution_count": 9,
   "metadata": {},
   "outputs": [
    {
     "name": "stdout",
     "output_type": "stream",
     "text": [
      "{'cs': '/calib-f/cs.Chn', 'na': '/calib-f/na.Chn', 'co': '/calib-f/co.Chn'}\n"
     ]
    }
   ],
   "source": [
    "print(calib_files)"
   ]
  },
  {
   "cell_type": "code",
   "execution_count": 18,
   "metadata": {},
   "outputs": [],
   "source": [
    "def load_chn(fname):    \n",
    "    spec_obj    = read_chn.gamma_data(fname)\n",
    "    spec_array  = spec_obj.hist_array\n",
    "    spec_time   = spec_obj.real_time   \n",
    "    return spec_array, spec_time\n",
    "\n",
    "calib = {k : load_chn(data_dir + v)[0] for (k, v) in calib_files.items()}\n",
    "scatter = {k : load_chn(data_dir + v)[0] for (k, v) in scatter_files.items()}\n",
    "control = {k : load_chn(data_dir + v)[0] for (k, v) in control_files.items()}"
   ]
  },
  {
   "cell_type": "code",
   "execution_count": 6,
   "metadata": {},
   "outputs": [
    {
     "ename": "NameError",
     "evalue": "name 'spec_array' is not defined",
     "output_type": "error",
     "traceback": [
      "\u001b[0;31m---------------------------------------------------------------------------\u001b[0m",
      "\u001b[0;31mNameError\u001b[0m                                 Traceback (most recent call last)",
      "\u001b[0;32m<ipython-input-6-eb543e266b96>\u001b[0m in \u001b[0;36m<module>\u001b[0;34m()\u001b[0m\n\u001b[0;32m----> 1\u001b[0;31m \u001b[0mplt\u001b[0m\u001b[0;34m.\u001b[0m\u001b[0mplot\u001b[0m\u001b[0;34m(\u001b[0m\u001b[0mspec_array\u001b[0m\u001b[0;34m[\u001b[0m\u001b[0;34m:\u001b[0m\u001b[0;36m200\u001b[0m\u001b[0;34m]\u001b[0m\u001b[0;34m)\u001b[0m\u001b[0;34m\u001b[0m\u001b[0m\n\u001b[0m\u001b[1;32m      2\u001b[0m \u001b[0mprint\u001b[0m\u001b[0;34m(\u001b[0m\u001b[0mcs_time\u001b[0m\u001b[0;34m,\u001b[0m \u001b[0mco_time\u001b[0m\u001b[0;34m,\u001b[0m \u001b[0mna_time\u001b[0m\u001b[0;34m)\u001b[0m\u001b[0;34m\u001b[0m\u001b[0m\n",
      "\u001b[0;31mNameError\u001b[0m: name 'spec_array' is not defined"
     ]
    }
   ],
   "source": [
    "plt.plot(calib[:200])"
   ]
  },
  {
   "cell_type": "code",
   "execution_count": null,
   "metadata": {
    "collapsed": true
   },
   "outputs": [],
   "source": []
  }
 ],
 "metadata": {
  "kernelspec": {
   "display_name": "Python 3",
   "language": "python",
   "name": "python3"
  },
  "language_info": {
   "codemirror_mode": {
    "name": "ipython",
    "version": 3
   },
   "file_extension": ".py",
   "mimetype": "text/x-python",
   "name": "python",
   "nbconvert_exporter": "python",
   "pygments_lexer": "ipython3",
   "version": "3.6.1"
  }
 },
 "nbformat": 4,
 "nbformat_minor": 2
}
